{
  "nbformat": 4,
  "nbformat_minor": 0,
  "metadata": {
    "colab": {
      "name": "ExercíciosAula05.ipynb",
      "provenance": [],
      "authorship_tag": "ABX9TyPSMdQGhZDZJo6GJcUOxPWg",
      "include_colab_link": true
    },
    "kernelspec": {
      "name": "python3",
      "display_name": "Python 3"
    },
    "language_info": {
      "name": "python"
    }
  },
  "cells": [
    {
      "cell_type": "markdown",
      "metadata": {
        "id": "view-in-github",
        "colab_type": "text"
      },
      "source": [
        "<a href=\"https://colab.research.google.com/github/jobsonb10/BlueMod1/blob/main/Exerc%C3%ADciosAula05.ipynb\" target=\"_parent\"><img src=\"https://colab.research.google.com/assets/colab-badge.svg\" alt=\"Open In Colab\"/></a>"
      ]
    },
    {
      "cell_type": "markdown",
      "metadata": {
        "id": "a8YmmpYL4M9z"
      },
      "source": [
        "1 - \n",
        "Faça um programa que leia o sexo biológico de uma pessoa, mas só aceite os valores ‘M’ ou ‘F’.\n",
        "\n",
        "Caso esteja errado, peça a digitação novamente até ter um valor correto."
      ]
    },
    {
      "cell_type": "code",
      "metadata": {
        "id": "ybknNsdI4KM9"
      },
      "source": [
        "while True:\n",
        "  nome = input(\"Qual seu sexo? Responda apenas com M ou F: \").upper()\n",
        "  if nome == \"M\" or nome == \"F\":\n",
        "    print(\"Obrigado!\")\n",
        "    break\n",
        "  else:\n",
        "    print(\"Resposta inválida, tente novamente!\\n\")  "
      ],
      "execution_count": null,
      "outputs": []
    },
    {
      "cell_type": "markdown",
      "metadata": {
        "id": "C2YhEd3L6G7D"
      },
      "source": [
        "2 - Escreva um programa que pede a senha uma senha ao usuário, e só sai do loop quando digitarem\n",
        "corretamente a senha. A senha é “Blue123”\n",
        "\n",
        "2b - Exiba quantas vezes o usuário errou a digitação."
      ]
    },
    {
      "cell_type": "code",
      "metadata": {
        "id": "fvKx9JHY6R1a"
      },
      "source": [
        "senha = \"0\"\n",
        "cont = 0\n",
        "while senha != \"Blue123\":\n",
        "  senha = input(\"Olá! Digite a senha: \")\n",
        "  cont += 1\n",
        "print(f\"Você errou a senha {cont-1} vezes!\") \n"
      ],
      "execution_count": null,
      "outputs": []
    },
    {
      "cell_type": "markdown",
      "metadata": {
        "id": "bzgmVHp47hay"
      },
      "source": [
        "3 - Crie um programa que leia a idade e o sexo de várias pessoas. A cada pessoa \n",
        "cadastrada, o programa deverá perguntar se o usuário quer ou não continuar. No \n",
        "final, mostre:\n",
        "\n",
        "A) Quantas pessoas tem mais de 18 anos.\n",
        "\n",
        "B) Quantos homens foram cadastrados.\n",
        "\n",
        "C) Quantas mulheres tem menos de 20 anos."
      ]
    },
    {
      "cell_type": "code",
      "metadata": {
        "id": "mpE-MViA7hxW"
      },
      "source": [
        "Qidade = 0\n",
        "QsexoM = 0\n",
        "Qmulher20 = 0 \n",
        "\n",
        "while True:\n",
        "  input(\"Digite seu primeiro nome: \")\n",
        "  idade = int(input(\"Digite sua idade: \"))\n",
        "  sexo = input(\"Digite seu sexo [M/F]\").upper()\n",
        "  sn = input(\"Deseja cadastrar mais uma pessoa? [SIM/NÃO]\").upper().replace(\"A\",\"Ã\")\n",
        "  if idade >= 18:\n",
        "    Qidade += 1\n",
        "  if sexo == \"M\":\n",
        "    QsexoM += 1\n",
        "  if sexo == \"F\" and idade < 20:\n",
        "    Qmulher20 += 1   \n",
        "  if sn == \"SIM\":\n",
        "    pass\n",
        "  else:\n",
        "    break\n",
        "print()    \n",
        "print(f\"{Qidade} cadastrados tem mais de 18 anos. \")\n",
        "print(f\"{QsexoM} homens foram cadastrados. \")\n",
        "print(f\"{Qmulher20} mulheres com menos de 20 anos foram cadastradas. \")\n"
      ],
      "execution_count": null,
      "outputs": []
    }
  ]
}