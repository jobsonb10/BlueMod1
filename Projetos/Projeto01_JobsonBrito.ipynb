{
  "nbformat": 4,
  "nbformat_minor": 0,
  "metadata": {
    "colab": {
      "name": "Projeto01-JobsonBrito.ipynb",
      "provenance": [],
      "authorship_tag": "ABX9TyP9beYvOFNEnIPvDM2MdV5f",
      "include_colab_link": true
    },
    "kernelspec": {
      "name": "python3",
      "display_name": "Python 3"
    },
    "language_info": {
      "name": "python"
    }
  },
  "cells": [
    {
      "cell_type": "markdown",
      "metadata": {
        "id": "view-in-github",
        "colab_type": "text"
      },
      "source": [
        "<a href=\"https://colab.research.google.com/github/jobsonb10/BlueMod1/blob/main/Projeto01_JobsonBrito.ipynb\" target=\"_parent\"><img src=\"https://colab.research.google.com/assets/colab-badge.svg\" alt=\"Open In Colab\"/></a>"
      ]
    },
    {
      "cell_type": "markdown",
      "metadata": {
        "id": "J1SxrTKACoqh"
      },
      "source": [
        "Projeto 01\n",
        " – Detetive\n",
        "\n",
        "Esse projeto tem a finalidade de fixar os conhecimentos de Variáveis, Print, Input \n",
        "e Condicionais, para isso crie um programa que faça 5 perguntas para uma \n",
        "pessoa sobre um crime. As perguntas são:\n",
        "\n",
        "• \"Você telefonou para a vítima?\"\n",
        "\n",
        "• \" Você esteve no local do crime?\"\n",
        "\n",
        "• \" Você mora perto da vítima?\"\n",
        "\n",
        "• \" Você devia para a vítima?\"\n",
        "\n",
        "• \" Você já trabalhou com a vítima?\" \n",
        "\n",
        "O programa deve, no final, emitir uma classificação sobre a participação da \n",
        "pessoa no crime.\n",
        "\n",
        "Se a pessoa responder positivamente a:\n",
        "\n",
        "• 2 questões ela deve ser classificada como \"Suspeita\",\n",
        "\n",
        "• Entre 3 e 4 como \"Cúmplice\"\n",
        "\n",
        "• 5 como \"Assassino\". \n",
        "\n",
        "• Caso contrário, ele será classificado como \"Inocente\""
      ]
    },
    {
      "cell_type": "code",
      "metadata": {
        "id": "-l7dSZXdCmyE"
      },
      "source": [
        "# Aqui estão sendo recolhidas as respostas e transformando em int pra fazer a soma de \"SIM's\"\n",
        "\n",
        "q1 = int(input(\"Você telefonou para a vítima? [SIM/NÃO]: \").upper().replace(\"A\",\"Ã\").replace(\"SIM\",\"1\").replace(\"NÃO\",\"0\"))\n",
        "q2 = int(input(\"Você estava no local do crime? [SIM/NÃO]: \").upper().replace(\"A\",\"Ã\").replace(\"SIM\",\"1\").replace(\"NÃO\",\"0\"))\n",
        "q3 = int(input(\"Você mora perto da vítima? [SIM/NÃO]: \").upper().replace(\"A\",\"Ã\").replace(\"SIM\",\"1\").replace(\"NÃO\",\"0\"))\n",
        "q4 = int(input(\"Você devia para a vítima? [SIM/NÃO]: \").upper().replace(\"A\",\"Ã\").replace(\"SIM\",\"1\").replace(\"NÃO\",\"0\"))\n",
        "q5 = int(input(\"Você já trabalhou com a vítima? [SIM/NÃO]: \").upper().replace(\"A\",\"Ã\").replace(\"SIM\",\"1\").replace(\"NÃO\",\"0\"))\n",
        "\n",
        "# Soma:\n",
        "i = q1 + q2 + q3 + q4 + q5\n",
        "\n",
        "\n",
        "# Verificação e classificação dos resultados:\n",
        "if i == 2:\n",
        "  print(\"Você é suspeito!\")\n",
        "elif i == 3 or i == 4:\n",
        "  print(\"Você é Cúmplice!\")\n",
        "elif i == 5:\n",
        "  print(\"Você é o assassino!\")\n",
        "elif i > 5 or i < 0:\n",
        "  print(\"Verifique suas respostas e faça o teste novamente!\")\n",
        "else:\n",
        "  print(\"Você é inocente!\")"
      ],
      "execution_count": null,
      "outputs": []
    }
  ]
}